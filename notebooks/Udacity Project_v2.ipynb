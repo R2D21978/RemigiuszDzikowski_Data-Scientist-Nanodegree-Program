{
 "cells": [
  {
   "cell_type": "code",
   "execution_count": null,
   "metadata": {},
   "outputs": [],
   "source": [
    "import pandas as pd\n",
    "import numpy as np\n",
    "import matplotlib.pyplot as plt\n",
    "from sklearn.model_selection import train_test_split\n",
    "from sklearn.ensemble import RandomForestClassifier\n",
    "from sklearn.metrics import (classification_report)\n",
    "from sklearn.metrics import confusion_matrix, ConfusionMatrixDisplay\n"
   ]
  },
  {
   "cell_type": "code",
   "execution_count": null,
   "metadata": {},
   "outputs": [],
   "source": [
    "file = 'C:\\\\Users\\\\R44063\\\\OneDrive - E.ON\\\\_VSCode\\\\Projekt Udacity\\\\data\\\\raw\\\\PurchaseOrders.csv'\n",
    "df = pd.read_csv(file, sep=';', encoding='utf-8') # Good Polish encoding"
   ]
  },
  {
   "cell_type": "code",
   "execution_count": null,
   "metadata": {},
   "outputs": [],
   "source": [
    "# Convert dates to datetime64[ns]\n",
    "df['Req Delivery Date'] = pd.to_datetime(df['Req Delivery Date'], dayfirst=True)\n",
    "df['Delivery Date'] = pd.to_datetime(df['Delivery Date'], dayfirst=True)\n",
    "\n",
    "# Today's date as pandas Timestamp (datetime64[ns]) with time zeroed (00:00:00)\n",
    "today = pd.to_datetime('today').normalize()\n",
    "\n",
    "# Calculate delay in days\n",
    "df['Delay (days)'] = (df['Delivery Date'] - df['Req Delivery Date']).dt.days\n",
    "\n",
    "# Condition 1: Requested delivery date was more than 2 days ago and delivery has not occurred\n",
    "condition_1 = (\n",
    "    (df['Req Delivery Date'] < (today - pd.Timedelta(days=2))) &\n",
    "    (df['Delivery Date'].isna())\n",
    ")\n",
    "\n",
    "# Condition 2: Delivery date is more than 2 days later than requested delivery date\n",
    "condition_2 = (\n",
    "    df['Delivery Date'].notna() &\n",
    "    ((df['Delivery Date'] - df['Req Delivery Date']) > pd.Timedelta(days=2))\n",
    ")\n",
    "\n",
    "# Condition 3: Delivery completed status = NO (i.e., incomplete)\n",
    "condition_3 = (\n",
    "    df['Delivery Completed'].str.upper() == 'NO'\n",
    ")\n",
    "\n",
    "# Final binary column 'Delayed'\n",
    "df['Delayed'] = ((condition_1 | condition_2 | condition_3)).astype(int)"
   ]
  },
  {
   "cell_type": "code",
   "execution_count": null,
   "metadata": {},
   "outputs": [],
   "source": [
    "# Display the DataFrame\n",
    "df"
   ]
  },
  {
   "cell_type": "code",
   "execution_count": null,
   "metadata": {},
   "outputs": [],
   "source": [
    "# Select features for the model\n",
    "X = df[[\"Requisitioner\", \"Supplier\", \"Material Group\", \"Terms of Payment\"]]\n",
    "\n",
    "# Target variable (label) indicating whether delivery is delayed\n",
    "y = df[\"Delayed\"]"
   ]
  },
  {
   "cell_type": "code",
   "execution_count": null,
   "metadata": {},
   "outputs": [],
   "source": [
    "# Encode categorical features using one-hot encoding\n",
    "X_encoded = pd.get_dummies(X)\n",
    "# Split data into training and testing sets (80% train, 20% test)\n",
    "X_train, X_test, y_train, y_test = train_test_split(X_encoded, y, test_size=0.2, random_state=42)"
   ]
  },
  {
   "cell_type": "code",
   "execution_count": null,
   "metadata": {},
   "outputs": [],
   "source": [
    "# Initialize the Random Forest classifier\n",
    "model = RandomForestClassifier()\n",
    "\n",
    "# Train the model on the training data\n",
    "model.fit(X_train, y_train)\n",
    "\n",
    "# Predict the target variable on the test data\n",
    "y_pred = model.predict(X_test)"
   ]
  },
  {
   "cell_type": "code",
   "execution_count": null,
   "metadata": {},
   "outputs": [],
   "source": [
    "# Print the classification report to evaluate model performance\n",
    "print(classification_report(y_test, y_pred))"
   ]
  },
  {
   "cell_type": "code",
   "execution_count": null,
   "metadata": {},
   "outputs": [],
   "source": [
    "cm = confusion_matrix(y_test, y_pred)"
   ]
  },
  {
   "cell_type": "code",
   "execution_count": null,
   "metadata": {},
   "outputs": [],
   "source": [
    "disp = ConfusionMatrixDisplay(confusion_matrix=cm, display_labels=model.classes_)\n",
    "disp.plot(cmap='Blues')  # możesz zmienić kolory, np. 'Oranges', 'Greens'\n",
    "plt.title(\"Confusion Matrix\")\n",
    "plt.show()"
   ]
  },
  {
   "cell_type": "code",
   "execution_count": null,
   "metadata": {},
   "outputs": [],
   "source": [
    "# DataFrame with feature names and their importance scores\n",
    "feat_df = pd.DataFrame({\n",
    "    'feature': features,\n",
    "    'importance': feature_importances\n",
    "})\n",
    "\n",
    "# Extract the \"base\" feature name before one-hot encoding\n",
    "feat_df['feature'] = feat_df['feature'].apply(lambda x: x.split('_')[0])\n",
    "\n",
    "# Sum the importances for each original feature by grouping by the base feature name\n",
    "grouped = feat_df.groupby('feature')['importance'].sum().sort_values(ascending=False)\n",
    "\n",
    "# Bar plot of grouped feature importances\n",
    "plt.figure(figsize=(10,5))\n",
    "grouped.plot(kind='bar')\n",
    "plt.title('Feature Importances grouped by original feature')\n",
    "plt.ylabel('Sum of Importances')\n",
    "plt.tight_layout()\n",
    "plt.show()\n"
   ]
  },
  {
   "cell_type": "code",
   "execution_count": null,
   "metadata": {},
   "outputs": [],
   "source": [
    "importances = model.feature_importances_\n",
    "feature_names = X_encoded.columns\n",
    "\n",
    "# 2. DataFrame with feature names and their importance scores\n",
    "feature_importance_df = pd.DataFrame({\n",
    "    'Feature': feature_names,\n",
    "    'Importance': importances\n",
    "})"
   ]
  },
  {
   "cell_type": "code",
   "execution_count": null,
   "metadata": {},
   "outputs": [],
   "source": [
    "# Prepare data for the plot for Requisitioner\n",
    "top_requisitioners = requisitioner_importance.head(15)\n",
    "features_req = top_requisitioners['Feature']\n",
    "importances_req = top_requisitioners['Importance']\n",
    "\n",
    "# Prepare data for the plot for Material Group\n",
    "material_importance = feature_importance_df[\n",
    "    feature_importance_df['Feature'].str.startswith('Material Group_')\n",
    "].sort_values(by='Importance', ascending=False)\n",
    "\n",
    "top_material = material_importance.head(15)\n",
    "features_mat = top_material['Feature']\n",
    "importances_mat = top_material['Importance']\n",
    "\n",
    "# Plot for Requisitioner\n",
    "plt.figure(figsize=(10, 6))\n",
    "plt.barh(features_req, importances_req, color='steelblue')\n",
    "plt.gca().invert_yaxis()  # Reverse Y-axis so the highest importance is on top\n",
    "plt.title('Top 15 Requisitioners by Feature Importance')\n",
    "plt.xlabel('Importance')\n",
    "plt.ylabel('Requisitioner')\n",
    "plt.tight_layout()\n",
    "plt.show()\n",
    "\n",
    "# Plot for Material Group\n",
    "plt.figure(figsize=(10, 6))\n",
    "plt.barh(features_mat, importances_mat, color='coral')\n",
    "plt.gca().invert_yaxis()  # Reverse Y-axis so the highest importance is on top\n",
    "plt.title('Top 15 Material Groups by Feature Importance')\n",
    "plt.xlabel('Importance')\n",
    "plt.ylabel('Material Group')\n",
    "plt.tight_layout()\n",
    "plt.show()\n"
   ]
  }
 ],
 "metadata": {
  "kernelspec": {
   "display_name": "Python 3",
   "language": "python",
   "name": "python3"
  },
  "language_info": {
   "codemirror_mode": {
    "name": "ipython",
    "version": 3
   },
   "file_extension": ".py",
   "mimetype": "text/x-python",
   "name": "python",
   "nbconvert_exporter": "python",
   "pygments_lexer": "ipython3",
   "version": "3.13.2"
  }
 },
 "nbformat": 4,
 "nbformat_minor": 2
}
